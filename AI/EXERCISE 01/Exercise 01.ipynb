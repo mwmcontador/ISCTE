{
 "cells": [
  {
   "cell_type": "markdown",
   "metadata": {},
   "source": [
    "AI HomeWork "
   ]
  },
  {
   "cell_type": "code",
   "execution_count": 119,
   "metadata": {},
   "outputs": [],
   "source": [
    "import numpy as np\n",
    "import jdc #manupular class  https://alexhagen.github.io/jdc/\n",
    "import random\n",
    "import matplotlib.pyplot as plt"
   ]
  },
  {
   "cell_type": "markdown",
   "metadata": {},
   "source": [
    "EXERCICIO FIXACÃO\n",
    "ALUNO: MANOEL WAGNER GAIA DE MELO"
   ]
  },
  {
   "cell_type": "code",
   "execution_count": 120,
   "metadata": {},
   "outputs": [
    {
     "name": "stdout",
     "output_type": "stream",
     "text": [
      "[[   1.    0.    0.    0.    0.    0.    0.    0.    0.    0.]\n",
      " [   0.    0.    0.    0.    0.    0.    0.    0.    0.    0.]\n",
      " [   0.    0.    0.    0.    0.    0.    0.    0.    0.    0.]\n",
      " [   0.    0.    0.    0.    0.    0.    0.    0.    0.    0.]\n",
      " [   0.    0.    0.    0.    0.    0.    0.    0.    0.    0.]\n",
      " [   0.    0.    0.    0.    0.    0.    0.    0.    0.    0.]\n",
      " [   0.    0.    0.    0.    0.    0.    0.    0.    0.    0.]\n",
      " [   0.    0.    0.    0.    0.    0.    0.    0.    0.    0.]\n",
      " [   0.    0.    0.    0.    0.    0.    0.    0.    0.    0.]\n",
      " [   0.    0.    0.    0.    0.    0.    0.    0.    0. -999.]]\n"
     ]
    },
    {
     "data": {
      "text/plain": [
       "2"
      ]
     },
     "execution_count": 120,
     "metadata": {},
     "output_type": "execute_result"
    }
   ],
   "source": [
    "#Criar Matrix para o \n",
    "mapRobot = np.zeros((10,10))\n",
    "mapRobot[9,9]=-999\n",
    "mapRobot[0,0]=1\n",
    "print(mapRobot)\n",
    "\n",
    "mapRobot.shape\n",
    "mapRobot.ndim\n"
   ]
  },
  {
   "cell_type": "code",
   "execution_count": 121,
   "metadata": {},
   "outputs": [
    {
     "data": {
      "text/plain": [
       "array([[ 0.,  1.,  2.,  3.,  4.,  5.,  6.,  7.,  8.,  9.],\n",
       "       [10., 11., 12., 13., 14., 15., 16., 17., 18., 19.],\n",
       "       [20., 21., 22., 23., 24., 25., 26., 27., 28., 29.],\n",
       "       [30., 31., 32., 33., 34., 35., 36., 37., 38., 39.],\n",
       "       [40., 41., 42., 43., 44., 45., 46., 47., 48., 49.],\n",
       "       [50., 51., 52., 53., 54., 55., 56., 57., 58., 59.],\n",
       "       [60., 61., 62., 63., 64., 65., 66., 67., 68., 69.],\n",
       "       [70., 71., 72., 73., 74., 75., 76., 77., 78., 79.],\n",
       "       [80., 81., 82., 83., 84., 85., 86., 87., 88., 89.],\n",
       "       [90., 91., 92., 93., 94., 95., 96., 97., 98., 99.]])"
      ]
     },
     "execution_count": 121,
     "metadata": {},
     "output_type": "execute_result"
    }
   ],
   "source": [
    "#Criamos uma matrix com as posições de cada Casa de 0 a 99\n",
    "\n",
    "mapPosition = mapRobot\n",
    "y=0\n",
    "X=0\n",
    "count=0\n",
    "for y in range(10):\n",
    "    for x in range(10):\n",
    "        \n",
    "        mapPosition[y,x]=count\n",
    "        count+=1\n",
    "\n",
    "mapPosition\n"
   ]
  },
  {
   "cell_type": "code",
   "execution_count": 122,
   "metadata": {},
   "outputs": [
    {
     "name": "stdout",
     "output_type": "stream",
     "text": [
      "==Iniciar a Função== CheckWall\n",
      "State Initial 0\n",
      "Variaveis Separadas: 0 0\n"
     ]
    }
   ],
   "source": [
    "\n",
    "stateFuture = 0\n",
    "move = 0 \n",
    "\n",
    "#Função para verificar que o Agente não ultrapassa o limites do capo\n",
    "def checkWall(move,state,stateFuture):\n",
    "    #Zerando as variaveis\n",
    "\n",
    "\n",
    "    print(\"==Iniciar a Função== CheckWall\")\n",
    "    print(\"State Initial\", state)\n",
    "    #print(\"Variaveis vazias:\",yFuture, xFuture)\n",
    "    #Dividimos o numero em Decimais e Inteiros\n",
    "    yFuture, xFuture = divmod(stateFuture,10)\n",
    "    print(\"Variaveis Separadas:\",yFuture, xFuture)\n",
    "\n",
    "    if (move==0 or move==1) : #up // down\n",
    "        #print(\"move1: UP -\", move)\n",
    "        #Teste que esta no limite das paredes cima e baixo\n",
    "        if (yFuture >= 0 and yFuture <= 9) and (xFuture >= 0 and xFuture <= 9) :\n",
    "            state = stateFuture\n",
    "            return state\n",
    "        else:\n",
    "            return state\n",
    "    print(\"State Final\", state)\n",
    "\n",
    "    if (move==2 or move==3) : #left // right\n",
    "        #Teste que esta no limite das paredes\n",
    "        #print(\"move2:\", move)\n",
    "        if (yFuture >= 0 and yFuture <= 9) and (xFuture >= 0 and xFuture <= 9)  :\n",
    "            state= stateFuture\n",
    "            return state\n",
    "        else:\n",
    "            return state\n",
    "    \n",
    "    print(\"==Final a Função== CheckWall -State Final:\", state)\n",
    "state = checkWall(move,state,stateFuture)\n"
   ]
  },
  {
   "cell_type": "code",
   "execution_count": 123,
   "metadata": {},
   "outputs": [
    {
     "name": "stdout",
     "output_type": "stream",
     "text": [
      "==Iniciar a Função== actionRobot\n",
      "state =  0\n",
      "Action =  left 2\n",
      "Yfuture =  0\n",
      "xfuture =  -1\n",
      "stateFuture =  -1\n",
      "==Iniciar a Função== CheckWall\n",
      "State Initial 0\n",
      "Variaveis Separadas: -1 9\n",
      "State Final 0\n",
      "== Final a Função == actionRobot:  left - 2  nextState: 0\n"
     ]
    }
   ],
   "source": [
    "'''\n",
    "ActionRobot => Função para movimentar o Robô, são 4 movimentos, (up,down, left,right)\n",
    "'''\n",
    "#state =0\n",
    "def actionRobot(state):\n",
    "    print(\"==Iniciar a Função== actionRobot\")\n",
    "    yFuture = 0\n",
    "    xFuture = 0\n",
    "      \n",
    "    yNow, xNow = divmod(state,10)\n",
    "    \n",
    "    action= random.randint(0,3) \n",
    "    action=2\n",
    "    if action ==0 : \n",
    "        acao = \"up\"\n",
    "        yFuture = yNow - 1  \n",
    "    elif action ==1 :\n",
    "        acao = \"down\" \n",
    "        yFuture = yNow + 1\n",
    "    elif action ==2 :\n",
    "        acao = \"left\" \n",
    "        xFuture = xNow - 1\n",
    "    elif action ==3 :\n",
    "        acao = \"right\" \n",
    "        xFuture = xNow + 1\n",
    "    print (\"state = \", state)\n",
    "    print (\"Action = \",acao, action)\n",
    "    print (\"Yfuture = \", yFuture)\n",
    "    print (\"xfuture = \", xFuture)\n",
    "    \n",
    "    stFuture = (yFuture *10) + xFuture\n",
    "    print (\"stateFuture = \", stFuture)\n",
    "    stFuture = checkWall(action,state,stFuture)\n",
    "    \n",
    "    \n",
    "    \n",
    "    print(\"== Final a Função == actionRobot: \", acao,\"-\", action , \" nextState:\", stFuture  )\n",
    "    return stFuture \n",
    "\n",
    "state = 0\n",
    "state = actionRobot(state)\n",
    " "
   ]
  },
  {
   "cell_type": "code",
   "execution_count": 124,
   "metadata": {},
   "outputs": [
    {
     "name": "stdout",
     "output_type": "stream",
     "text": [
      "==Iniciar a Função== CheckReward - Reward: 0 StateReward 0\n",
      "0 0\n"
     ]
    }
   ],
   "source": [
    "\n",
    "#state = 0\n",
    "\n",
    "#Função de Reward\n",
    "def CheckReward(state, Reward=0):\n",
    "    \n",
    "    print(\"==Iniciar a Função== CheckReward - Reward:\", Reward,\"StateReward\", state)\n",
    "    if state == 99 :\n",
    "        Reward = Reward + 100\n",
    "        state = 0\n",
    "    else: \n",
    "        Reward = Reward \n",
    "    \n",
    "    return (state)\n",
    "    print(\"==Final Função== CheckReward: \", Reward)\n",
    "            \n",
    "state = CheckReward(state)\n",
    "print(state,Reward)"
   ]
  },
  {
   "cell_type": "code",
   "execution_count": null,
   "metadata": {},
   "outputs": [],
   "source": [
    "i = 1\n",
    "Reward = 0\n",
    "\n",
    "for i in range(100):\n",
    "    #Verifica a proxima"
   ]
  },
  {
   "cell_type": "markdown",
   "metadata": {},
   "source": []
  },
  {
   "cell_type": "code",
   "execution_count": 125,
   "metadata": {},
   "outputs": [
    {
     "ename": "IndentationError",
     "evalue": "unexpected indent (<ipython-input-125-fa7e4374b663>, line 10)",
     "output_type": "error",
     "traceback": [
      "\u001b[1;36m  File \u001b[1;32m\"<ipython-input-125-fa7e4374b663>\"\u001b[1;36m, line \u001b[1;32m10\u001b[0m\n\u001b[1;33m    if (move==0):\u001b[0m\n\u001b[1;37m    ^\u001b[0m\n\u001b[1;31mIndentationError\u001b[0m\u001b[1;31m:\u001b[0m unexpected indent\n"
     ]
    }
   ],
   "source": []
  }
 ],
 "metadata": {
  "interpreter": {
   "hash": "94da34a5dbd97421553ed837659e5d0d738e9e13a073026ac2a410b5a6154dbc"
  },
  "kernelspec": {
   "display_name": "Python 3.8.3 64-bit ('base': conda)",
   "name": "python3"
  },
  "language_info": {
   "codemirror_mode": {
    "name": "ipython",
    "version": 3
   },
   "file_extension": ".py",
   "mimetype": "text/x-python",
   "name": "python",
   "nbconvert_exporter": "python",
   "pygments_lexer": "ipython3",
   "version": "3.8.3"
  },
  "orig_nbformat": 4
 },
 "nbformat": 4,
 "nbformat_minor": 2
}
